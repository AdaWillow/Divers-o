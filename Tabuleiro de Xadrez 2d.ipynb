{
 "cells": [
  {
   "cell_type": "code",
   "execution_count": 1,
   "id": "0887097f",
   "metadata": {},
   "outputs": [
    {
     "data": {
      "image/png": "[encoded data removed]",
      "text/plain": [
       "<Figure size 640x480 with 1 Axes>"
      ]
     },
     "metadata": {},
     "output_type": "display_data"
    }
   ],
   "source": [
    "import matplotlib.pyplot as plt\n",
    "import numpy as np\n",
    "\n",
    "def draw_chessboard():\n",
    "    # Cria uma matriz 8x8 de zeros\n",
    "    board = np.zeros((8, 8))\n",
    "    \n",
    "    # Preenche os quadrados pretos com 1\n",
    "    board[1::2, ::2] = 1\n",
    "    board[::2, 1::2] = 1\n",
    "    \n",
    "    plt.imshow(board, cmap='binary')\n",
    "    plt.xticks([])  # Remove os ticks dos eixos\n",
    "    plt.yticks([])  # Remove os ticks dos eixos\n",
    "    plt.show()\n",
    "\n",
    "draw_chessboard()"
   ]
  },
  {
   "cell_type": "code",
   "execution_count": 2,
   "id": "033e5272",
   "metadata": {},
   "outputs": [
    {
     "data": {
      "image/png": "[encoded data removed]",
      "text/plain": [
       "<Figure size 640x480 with 1 Axes>"
      ]
     },
     "metadata": {},
     "output_type": "display_data"
    }
   ],
   "source": [
    "import matplotlib.pyplot as plt\n",
    "import numpy as np\n",
    "\n",
    "def draw_chessboard_with_pieces():\n",
    "    # Cria uma matriz 8x8 de zeros\n",
    "    board = np.zeros((8, 8))\n",
    "    \n",
    "    # Preenche os quadrados pretos com 1\n",
    "    board[1::2, ::2] = 1\n",
    "    board[::2, 1::2] = 1\n",
    "    \n",
    "    plt.imshow(board, cmap='binary')\n",
    "    plt.xticks([])  # Remove os ticks dos eixos\n",
    "    plt.yticks([])  # Remove os ticks dos eixos\n",
    "    \n",
    "    # Define a posição das peças\n",
    "    pieces = {\n",
    "        'rook': '♜', 'knight': '♞', 'bishop': '♝', 'queen': '♛', 'king': '♚', 'pawn': '♟',\n",
    "        'Rook': '♖', 'Knight': '♘', 'Bishop': '♗', 'Queen': '♕', 'King': '♔', 'Pawn': '♙'\n",
    "    }\n",
    "    \n",
    "    # Posições iniciais das peças brancas e pretas\n",
    "    initial_positions = [\n",
    "        ('rook', 0, 0), ('knight', 0, 1), ('bishop', 0, 2), ('queen', 0, 3), ('king', 0, 4), ('bishop', 0, 5), ('knight', 0, 6), ('rook', 0, 7),\n",
    "        ('pawn', 1, 0), ('pawn', 1, 1), ('pawn', 1, 2), ('pawn', 1, 3), ('pawn', 1, 4), ('pawn', 1, 5), ('pawn', 1, 6), ('pawn', 1, 7),\n",
    "        ('Rook', 7, 0), ('Knight', 7, 1), ('Bishop', 7, 2), ('Queen', 7, 3), ('King', 7, 4), ('Bishop', 7, 5), ('Knight', 7, 6), ('Rook', 7, 7),\n",
    "        ('Pawn', 6, 0), ('Pawn', 6, 1), ('Pawn', 6, 2), ('Pawn', 6, 3), ('Pawn', 6, 4), ('Pawn', 6, 5), ('Pawn', 6, 6), ('Pawn', 6, 7)\n",
    "    ]\n",
    "    \n",
    "    for piece, x, y in initial_positions:\n",
    "        plt.text(y, x, pieces[piece], fontsize=18, ha='center', va='center', color='black')\n",
    "    \n",
    "    plt.show()\n",
    "\n",
    "draw_chessboard_with_pieces()\n"
   ]
  },
  {
   "cell_type": "code",
   "execution_count": null,
   "id": "f339e891",
   "metadata": {},
   "outputs": [],
   "source": []
  }
 ],
 "metadata": {
  "kernelspec": {
   "display_name": "Python 3 (ipykernel)",
   "language": "python",
   "name": "python3"
  },
  "language_info": {
   "codemirror_mode": {
    "name": "ipython",
    "version": 3
   },
   "file_extension": ".py",
   "mimetype": "text/x-python",
   "name": "python",
   "nbconvert_exporter": "python",
   "pygments_lexer": "ipython3",
   "version": "3.9.13"
  }
 },
 "nbformat": 4,
 "nbformat_minor": 5
}
